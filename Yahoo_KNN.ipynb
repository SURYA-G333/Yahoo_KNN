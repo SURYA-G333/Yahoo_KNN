{
  "cells": [
    {
      "cell_type": "code",
      "execution_count": 1,
      "metadata": {
        "id": "RBU8FRfDSpYY"
      },
      "outputs": [],
      "source": [
        "import pandas as pd"
      ]
    },
    {
      "cell_type": "code",
      "execution_count": 2,
      "metadata": {
        "id": "3bLVQroUSwB-"
      },
      "outputs": [],
      "source": [
        "df = pd.read_csv(\"phish.csv\")"
      ]
    },
    {
      "cell_type": "code",
      "execution_count": 3,
      "metadata": {},
      "outputs": [
        {
          "name": "stdout",
          "output_type": "stream",
          "text": [
            "     id  NumDots  SubdomainLevel  PathLevel  UrlLength  NumDash  \\\n",
            "0  None        2               1          1        365        0   \n",
            "\n",
            "   NumDashInHostname  AtSymbol  TildeSymbol  NumUnderscore  ...  RandomString  \\\n",
            "0                  0     False        False              0  ...          None   \n",
            "\n",
            "   IpAddress  DomainInSubdomains  DomainInPaths  HttpsInHostname  \\\n",
            "0       None               False          False            False   \n",
            "\n",
            "   HostnameLength PathLength QueryLength  DoubleSlashInPath  CLASS_LABEL  \n",
            "0              14         19         323              False         None  \n",
            "\n",
            "[1 rows x 26 columns]\n"
          ]
        }
      ],
      "source": [
        "import pandas as pd\n",
        "from urllib.parse import urlparse\n",
        "\n",
        "def preprocess_url(url):\n",
        "\n",
        "    parsed_url = urlparse(url)\n",
        "\n",
        "    domain = parsed_url.netloc\n",
        "    subdomain = parsed_url.hostname.split('.')[:-2] \n",
        "    path = parsed_url.path\n",
        "    query = parsed_url.query\n",
        "\n",
        "    features = {\n",
        "        'id': None,\n",
        "        'NumDots': domain.count('.'),\n",
        "        'SubdomainLevel': len(subdomain),\n",
        "        'PathLevel': path.count('/') - 1,  \n",
        "        'UrlLength': len(url),\n",
        "        'NumDash': domain.count('-'),\n",
        "        'NumDashInHostname': parsed_url.hostname.count('-'),\n",
        "        'AtSymbol': '@' in domain,\n",
        "        'TildeSymbol': '~' in url,\n",
        "        'NumUnderscore': domain.count('_'),\n",
        "        'NumPercent': url.count('%'),\n",
        "        'NumQueryComponents': len(query.split('&')) if query else 0,\n",
        "        'NumAmpersand': url.count('&'),\n",
        "        'NumHash': url.count('#'),\n",
        "        'NumNumericChars': sum(char.isdigit() for char in url),\n",
        "        'NoHttps': not url.startswith('https://'),\n",
        "        'RandomString': None,\n",
        "        'IpAddress': None,\n",
        "        'DomainInSubdomains': domain in subdomain,\n",
        "        'DomainInPaths': domain in path,\n",
        "        'HttpsInHostname': 'https' in parsed_url.hostname,\n",
        "        'HostnameLength': len(parsed_url.hostname),\n",
        "        'PathLength': len(path),\n",
        "        'QueryLength': len(query),\n",
        "        'DoubleSlashInPath': '//' in path,\n",
        "        'CLASS_LABEL': None\n",
        "    }\n",
        "\n",
        "    return pd.DataFrame([features])\n",
        "\n",
        "url = \"https://www.scopus.com/record/display.uri?eid=2-s2.0-84977110651&origin=resultslist&sort=cp-f&src=s&st1=phishing&nlo=&nlr=&nls=&sid=1557df7d46497bd4ad2787bc56bf1291&sot=b&sdt=cl&cluster=scopubyr%2c%222019%22%2ct%2c%222018%22%2ct%2c%222017%22%2ct%2c%222016%22%2ct%2c%222015%22%2ct%2c%222014%22%2ct&sl=23&s=TITLE-ABS-KEY%28phishing%29&relpos=0&citeCnt=334&searchTerm=\"\n",
        "preprocessed_data = preprocess_url(url)\n",
        "\n",
        "du = pd.DataFrame(preprocessed_data)\n",
        "print(du)\n"
      ]
    },
    {
      "cell_type": "code",
      "execution_count": 4,
      "metadata": {
        "colab": {
          "base_uri": "https://localhost:8080/",
          "height": 300
        },
        "id": "q36dimdfS5Ii",
        "outputId": "52ce8c29-9587-4260-ad6c-34eac26ce1ad"
      },
      "outputs": [
        {
          "data": {
            "text/html": [
              "<div>\n",
              "<style scoped>\n",
              "    .dataframe tbody tr th:only-of-type {\n",
              "        vertical-align: middle;\n",
              "    }\n",
              "\n",
              "    .dataframe tbody tr th {\n",
              "        vertical-align: top;\n",
              "    }\n",
              "\n",
              "    .dataframe thead th {\n",
              "        text-align: right;\n",
              "    }\n",
              "</style>\n",
              "<table border=\"1\" class=\"dataframe\">\n",
              "  <thead>\n",
              "    <tr style=\"text-align: right;\">\n",
              "      <th></th>\n",
              "      <th>id</th>\n",
              "      <th>NumDots</th>\n",
              "      <th>SubdomainLevel</th>\n",
              "      <th>PathLevel</th>\n",
              "      <th>UrlLength</th>\n",
              "      <th>NumDash</th>\n",
              "      <th>NumDashInHostname</th>\n",
              "      <th>AtSymbol</th>\n",
              "      <th>TildeSymbol</th>\n",
              "      <th>NumUnderscore</th>\n",
              "      <th>...</th>\n",
              "      <th>RandomString</th>\n",
              "      <th>IpAddress</th>\n",
              "      <th>DomainInSubdomains</th>\n",
              "      <th>DomainInPaths</th>\n",
              "      <th>HttpsInHostname</th>\n",
              "      <th>HostnameLength</th>\n",
              "      <th>PathLength</th>\n",
              "      <th>QueryLength</th>\n",
              "      <th>DoubleSlashInPath</th>\n",
              "      <th>CLASS_LABEL</th>\n",
              "    </tr>\n",
              "  </thead>\n",
              "  <tbody>\n",
              "    <tr>\n",
              "      <th>0</th>\n",
              "      <td>1</td>\n",
              "      <td>3</td>\n",
              "      <td>1</td>\n",
              "      <td>5</td>\n",
              "      <td>72</td>\n",
              "      <td>0</td>\n",
              "      <td>0</td>\n",
              "      <td>0</td>\n",
              "      <td>0</td>\n",
              "      <td>0</td>\n",
              "      <td>...</td>\n",
              "      <td>0</td>\n",
              "      <td>0</td>\n",
              "      <td>0</td>\n",
              "      <td>0</td>\n",
              "      <td>0</td>\n",
              "      <td>21</td>\n",
              "      <td>44</td>\n",
              "      <td>0</td>\n",
              "      <td>0</td>\n",
              "      <td>1</td>\n",
              "    </tr>\n",
              "    <tr>\n",
              "      <th>1</th>\n",
              "      <td>2</td>\n",
              "      <td>3</td>\n",
              "      <td>1</td>\n",
              "      <td>3</td>\n",
              "      <td>144</td>\n",
              "      <td>0</td>\n",
              "      <td>0</td>\n",
              "      <td>0</td>\n",
              "      <td>0</td>\n",
              "      <td>2</td>\n",
              "      <td>...</td>\n",
              "      <td>0</td>\n",
              "      <td>0</td>\n",
              "      <td>0</td>\n",
              "      <td>0</td>\n",
              "      <td>0</td>\n",
              "      <td>17</td>\n",
              "      <td>16</td>\n",
              "      <td>103</td>\n",
              "      <td>0</td>\n",
              "      <td>1</td>\n",
              "    </tr>\n",
              "    <tr>\n",
              "      <th>2</th>\n",
              "      <td>3</td>\n",
              "      <td>3</td>\n",
              "      <td>1</td>\n",
              "      <td>2</td>\n",
              "      <td>58</td>\n",
              "      <td>0</td>\n",
              "      <td>0</td>\n",
              "      <td>0</td>\n",
              "      <td>0</td>\n",
              "      <td>0</td>\n",
              "      <td>...</td>\n",
              "      <td>0</td>\n",
              "      <td>0</td>\n",
              "      <td>0</td>\n",
              "      <td>0</td>\n",
              "      <td>0</td>\n",
              "      <td>27</td>\n",
              "      <td>24</td>\n",
              "      <td>0</td>\n",
              "      <td>0</td>\n",
              "      <td>1</td>\n",
              "    </tr>\n",
              "    <tr>\n",
              "      <th>3</th>\n",
              "      <td>4</td>\n",
              "      <td>3</td>\n",
              "      <td>1</td>\n",
              "      <td>6</td>\n",
              "      <td>79</td>\n",
              "      <td>1</td>\n",
              "      <td>0</td>\n",
              "      <td>0</td>\n",
              "      <td>0</td>\n",
              "      <td>0</td>\n",
              "      <td>...</td>\n",
              "      <td>0</td>\n",
              "      <td>0</td>\n",
              "      <td>0</td>\n",
              "      <td>1</td>\n",
              "      <td>0</td>\n",
              "      <td>22</td>\n",
              "      <td>50</td>\n",
              "      <td>0</td>\n",
              "      <td>0</td>\n",
              "      <td>0</td>\n",
              "    </tr>\n",
              "    <tr>\n",
              "      <th>4</th>\n",
              "      <td>5</td>\n",
              "      <td>3</td>\n",
              "      <td>0</td>\n",
              "      <td>4</td>\n",
              "      <td>46</td>\n",
              "      <td>0</td>\n",
              "      <td>0</td>\n",
              "      <td>0</td>\n",
              "      <td>0</td>\n",
              "      <td>0</td>\n",
              "      <td>...</td>\n",
              "      <td>1</td>\n",
              "      <td>0</td>\n",
              "      <td>0</td>\n",
              "      <td>1</td>\n",
              "      <td>0</td>\n",
              "      <td>10</td>\n",
              "      <td>29</td>\n",
              "      <td>0</td>\n",
              "      <td>0</td>\n",
              "      <td>1</td>\n",
              "    </tr>\n",
              "  </tbody>\n",
              "</table>\n",
              "<p>5 rows × 26 columns</p>\n",
              "</div>"
            ],
            "text/plain": [
              "   id  NumDots  SubdomainLevel  PathLevel  UrlLength  NumDash  \\\n",
              "0   1        3               1          5         72        0   \n",
              "1   2        3               1          3        144        0   \n",
              "2   3        3               1          2         58        0   \n",
              "3   4        3               1          6         79        1   \n",
              "4   5        3               0          4         46        0   \n",
              "\n",
              "   NumDashInHostname  AtSymbol  TildeSymbol  NumUnderscore  ...  RandomString  \\\n",
              "0                  0         0            0              0  ...             0   \n",
              "1                  0         0            0              2  ...             0   \n",
              "2                  0         0            0              0  ...             0   \n",
              "3                  0         0            0              0  ...             0   \n",
              "4                  0         0            0              0  ...             1   \n",
              "\n",
              "   IpAddress  DomainInSubdomains  DomainInPaths  HttpsInHostname  \\\n",
              "0          0                   0              0                0   \n",
              "1          0                   0              0                0   \n",
              "2          0                   0              0                0   \n",
              "3          0                   0              1                0   \n",
              "4          0                   0              1                0   \n",
              "\n",
              "   HostnameLength  PathLength  QueryLength  DoubleSlashInPath  CLASS_LABEL  \n",
              "0              21          44            0                  0            1  \n",
              "1              17          16          103                  0            1  \n",
              "2              27          24            0                  0            1  \n",
              "3              22          50            0                  0            0  \n",
              "4              10          29            0                  0            1  \n",
              "\n",
              "[5 rows x 26 columns]"
            ]
          },
          "execution_count": 4,
          "metadata": {},
          "output_type": "execute_result"
        }
      ],
      "source": [
        "df.head()"
      ]
    },
    {
      "cell_type": "code",
      "execution_count": 5,
      "metadata": {
        "id": "GuOk7-ORS-P5"
      },
      "outputs": [],
      "source": [
        "from sklearn.neighbors import KNeighborsClassifier\n",
        "from sklearn.model_selection import train_test_split"
      ]
    },
    {
      "cell_type": "code",
      "execution_count": 6,
      "metadata": {
        "id": "VOstWtQWTfrB"
      },
      "outputs": [],
      "source": [
        "df1=df.drop('CLASS_LABEL',axis=1)"
      ]
    },
    {
      "cell_type": "code",
      "execution_count": 7,
      "metadata": {
        "colab": {
          "base_uri": "https://localhost:8080/",
          "height": 300
        },
        "id": "ulzhCYYBToiv",
        "outputId": "913b0e0c-7d96-4ae9-f230-d793a2d0d148"
      },
      "outputs": [
        {
          "data": {
            "text/html": [
              "<div>\n",
              "<style scoped>\n",
              "    .dataframe tbody tr th:only-of-type {\n",
              "        vertical-align: middle;\n",
              "    }\n",
              "\n",
              "    .dataframe tbody tr th {\n",
              "        vertical-align: top;\n",
              "    }\n",
              "\n",
              "    .dataframe thead th {\n",
              "        text-align: right;\n",
              "    }\n",
              "</style>\n",
              "<table border=\"1\" class=\"dataframe\">\n",
              "  <thead>\n",
              "    <tr style=\"text-align: right;\">\n",
              "      <th></th>\n",
              "      <th>id</th>\n",
              "      <th>NumDots</th>\n",
              "      <th>SubdomainLevel</th>\n",
              "      <th>PathLevel</th>\n",
              "      <th>UrlLength</th>\n",
              "      <th>NumDash</th>\n",
              "      <th>NumDashInHostname</th>\n",
              "      <th>AtSymbol</th>\n",
              "      <th>TildeSymbol</th>\n",
              "      <th>NumUnderscore</th>\n",
              "      <th>...</th>\n",
              "      <th>NoHttps</th>\n",
              "      <th>RandomString</th>\n",
              "      <th>IpAddress</th>\n",
              "      <th>DomainInSubdomains</th>\n",
              "      <th>DomainInPaths</th>\n",
              "      <th>HttpsInHostname</th>\n",
              "      <th>HostnameLength</th>\n",
              "      <th>PathLength</th>\n",
              "      <th>QueryLength</th>\n",
              "      <th>DoubleSlashInPath</th>\n",
              "    </tr>\n",
              "  </thead>\n",
              "  <tbody>\n",
              "    <tr>\n",
              "      <th>0</th>\n",
              "      <td>1</td>\n",
              "      <td>3</td>\n",
              "      <td>1</td>\n",
              "      <td>5</td>\n",
              "      <td>72</td>\n",
              "      <td>0</td>\n",
              "      <td>0</td>\n",
              "      <td>0</td>\n",
              "      <td>0</td>\n",
              "      <td>0</td>\n",
              "      <td>...</td>\n",
              "      <td>1</td>\n",
              "      <td>0</td>\n",
              "      <td>0</td>\n",
              "      <td>0</td>\n",
              "      <td>0</td>\n",
              "      <td>0</td>\n",
              "      <td>21</td>\n",
              "      <td>44</td>\n",
              "      <td>0</td>\n",
              "      <td>0</td>\n",
              "    </tr>\n",
              "    <tr>\n",
              "      <th>1</th>\n",
              "      <td>2</td>\n",
              "      <td>3</td>\n",
              "      <td>1</td>\n",
              "      <td>3</td>\n",
              "      <td>144</td>\n",
              "      <td>0</td>\n",
              "      <td>0</td>\n",
              "      <td>0</td>\n",
              "      <td>0</td>\n",
              "      <td>2</td>\n",
              "      <td>...</td>\n",
              "      <td>1</td>\n",
              "      <td>0</td>\n",
              "      <td>0</td>\n",
              "      <td>0</td>\n",
              "      <td>0</td>\n",
              "      <td>0</td>\n",
              "      <td>17</td>\n",
              "      <td>16</td>\n",
              "      <td>103</td>\n",
              "      <td>0</td>\n",
              "    </tr>\n",
              "    <tr>\n",
              "      <th>2</th>\n",
              "      <td>3</td>\n",
              "      <td>3</td>\n",
              "      <td>1</td>\n",
              "      <td>2</td>\n",
              "      <td>58</td>\n",
              "      <td>0</td>\n",
              "      <td>0</td>\n",
              "      <td>0</td>\n",
              "      <td>0</td>\n",
              "      <td>0</td>\n",
              "      <td>...</td>\n",
              "      <td>1</td>\n",
              "      <td>0</td>\n",
              "      <td>0</td>\n",
              "      <td>0</td>\n",
              "      <td>0</td>\n",
              "      <td>0</td>\n",
              "      <td>27</td>\n",
              "      <td>24</td>\n",
              "      <td>0</td>\n",
              "      <td>0</td>\n",
              "    </tr>\n",
              "    <tr>\n",
              "      <th>3</th>\n",
              "      <td>4</td>\n",
              "      <td>3</td>\n",
              "      <td>1</td>\n",
              "      <td>6</td>\n",
              "      <td>79</td>\n",
              "      <td>1</td>\n",
              "      <td>0</td>\n",
              "      <td>0</td>\n",
              "      <td>0</td>\n",
              "      <td>0</td>\n",
              "      <td>...</td>\n",
              "      <td>1</td>\n",
              "      <td>0</td>\n",
              "      <td>0</td>\n",
              "      <td>0</td>\n",
              "      <td>1</td>\n",
              "      <td>0</td>\n",
              "      <td>22</td>\n",
              "      <td>50</td>\n",
              "      <td>0</td>\n",
              "      <td>0</td>\n",
              "    </tr>\n",
              "    <tr>\n",
              "      <th>4</th>\n",
              "      <td>5</td>\n",
              "      <td>3</td>\n",
              "      <td>0</td>\n",
              "      <td>4</td>\n",
              "      <td>46</td>\n",
              "      <td>0</td>\n",
              "      <td>0</td>\n",
              "      <td>0</td>\n",
              "      <td>0</td>\n",
              "      <td>0</td>\n",
              "      <td>...</td>\n",
              "      <td>1</td>\n",
              "      <td>1</td>\n",
              "      <td>0</td>\n",
              "      <td>0</td>\n",
              "      <td>1</td>\n",
              "      <td>0</td>\n",
              "      <td>10</td>\n",
              "      <td>29</td>\n",
              "      <td>0</td>\n",
              "      <td>0</td>\n",
              "    </tr>\n",
              "  </tbody>\n",
              "</table>\n",
              "<p>5 rows × 25 columns</p>\n",
              "</div>"
            ],
            "text/plain": [
              "   id  NumDots  SubdomainLevel  PathLevel  UrlLength  NumDash  \\\n",
              "0   1        3               1          5         72        0   \n",
              "1   2        3               1          3        144        0   \n",
              "2   3        3               1          2         58        0   \n",
              "3   4        3               1          6         79        1   \n",
              "4   5        3               0          4         46        0   \n",
              "\n",
              "   NumDashInHostname  AtSymbol  TildeSymbol  NumUnderscore  ...  NoHttps  \\\n",
              "0                  0         0            0              0  ...        1   \n",
              "1                  0         0            0              2  ...        1   \n",
              "2                  0         0            0              0  ...        1   \n",
              "3                  0         0            0              0  ...        1   \n",
              "4                  0         0            0              0  ...        1   \n",
              "\n",
              "   RandomString  IpAddress  DomainInSubdomains  DomainInPaths  \\\n",
              "0             0          0                   0              0   \n",
              "1             0          0                   0              0   \n",
              "2             0          0                   0              0   \n",
              "3             0          0                   0              1   \n",
              "4             1          0                   0              1   \n",
              "\n",
              "   HttpsInHostname  HostnameLength  PathLength  QueryLength  DoubleSlashInPath  \n",
              "0                0              21          44            0                  0  \n",
              "1                0              17          16          103                  0  \n",
              "2                0              27          24            0                  0  \n",
              "3                0              22          50            0                  0  \n",
              "4                0              10          29            0                  0  \n",
              "\n",
              "[5 rows x 25 columns]"
            ]
          },
          "execution_count": 7,
          "metadata": {},
          "output_type": "execute_result"
        }
      ],
      "source": [
        "df1.head()"
      ]
    },
    {
      "cell_type": "code",
      "execution_count": 8,
      "metadata": {
        "id": "XvLrK-ZvTshP"
      },
      "outputs": [],
      "source": [
        "df2=df['CLASS_LABEL']"
      ]
    },
    {
      "cell_type": "code",
      "execution_count": 9,
      "metadata": {
        "colab": {
          "base_uri": "https://localhost:8080/"
        },
        "id": "kqdBBbykTw7P",
        "outputId": "123b239f-3e40-4a9d-bfcf-e7f88fd3d6dd"
      },
      "outputs": [
        {
          "data": {
            "text/plain": [
              "0    1\n",
              "1    1\n",
              "2    1\n",
              "3    0\n",
              "4    1\n",
              "Name: CLASS_LABEL, dtype: int64"
            ]
          },
          "execution_count": 9,
          "metadata": {},
          "output_type": "execute_result"
        }
      ],
      "source": [
        "df2.head()"
      ]
    },
    {
      "cell_type": "code",
      "execution_count": 10,
      "metadata": {
        "id": "H5qyws4wTebO"
      },
      "outputs": [],
      "source": [
        "X_train, X_test, y_train, y_test = train_test_split(df1, df2, random_state = 0)"
      ]
    },
    {
      "cell_type": "code",
      "execution_count": 11,
      "metadata": {
        "id": "8xiYkdL2T6qi"
      },
      "outputs": [],
      "source": [
        "knn = KNeighborsClassifier(n_neighbors = 22)"
      ]
    },
    {
      "cell_type": "code",
      "execution_count": 12,
      "metadata": {
        "colab": {
          "base_uri": "https://localhost:8080/",
          "height": 75
        },
        "id": "eLI9VrSXUBZc",
        "outputId": "15b7da1d-321f-4759-9e76-32d4b71cd0f9"
      },
      "outputs": [
        {
          "data": {
            "text/html": [
              "<style>#sk-container-id-1 {color: black;background-color: white;}#sk-container-id-1 pre{padding: 0;}#sk-container-id-1 div.sk-toggleable {background-color: white;}#sk-container-id-1 label.sk-toggleable__label {cursor: pointer;display: block;width: 100%;margin-bottom: 0;padding: 0.3em;box-sizing: border-box;text-align: center;}#sk-container-id-1 label.sk-toggleable__label-arrow:before {content: \"▸\";float: left;margin-right: 0.25em;color: #696969;}#sk-container-id-1 label.sk-toggleable__label-arrow:hover:before {color: black;}#sk-container-id-1 div.sk-estimator:hover label.sk-toggleable__label-arrow:before {color: black;}#sk-container-id-1 div.sk-toggleable__content {max-height: 0;max-width: 0;overflow: hidden;text-align: left;background-color: #f0f8ff;}#sk-container-id-1 div.sk-toggleable__content pre {margin: 0.2em;color: black;border-radius: 0.25em;background-color: #f0f8ff;}#sk-container-id-1 input.sk-toggleable__control:checked~div.sk-toggleable__content {max-height: 200px;max-width: 100%;overflow: auto;}#sk-container-id-1 input.sk-toggleable__control:checked~label.sk-toggleable__label-arrow:before {content: \"▾\";}#sk-container-id-1 div.sk-estimator input.sk-toggleable__control:checked~label.sk-toggleable__label {background-color: #d4ebff;}#sk-container-id-1 div.sk-label input.sk-toggleable__control:checked~label.sk-toggleable__label {background-color: #d4ebff;}#sk-container-id-1 input.sk-hidden--visually {border: 0;clip: rect(1px 1px 1px 1px);clip: rect(1px, 1px, 1px, 1px);height: 1px;margin: -1px;overflow: hidden;padding: 0;position: absolute;width: 1px;}#sk-container-id-1 div.sk-estimator {font-family: monospace;background-color: #f0f8ff;border: 1px dotted black;border-radius: 0.25em;box-sizing: border-box;margin-bottom: 0.5em;}#sk-container-id-1 div.sk-estimator:hover {background-color: #d4ebff;}#sk-container-id-1 div.sk-parallel-item::after {content: \"\";width: 100%;border-bottom: 1px solid gray;flex-grow: 1;}#sk-container-id-1 div.sk-label:hover label.sk-toggleable__label {background-color: #d4ebff;}#sk-container-id-1 div.sk-serial::before {content: \"\";position: absolute;border-left: 1px solid gray;box-sizing: border-box;top: 0;bottom: 0;left: 50%;z-index: 0;}#sk-container-id-1 div.sk-serial {display: flex;flex-direction: column;align-items: center;background-color: white;padding-right: 0.2em;padding-left: 0.2em;position: relative;}#sk-container-id-1 div.sk-item {position: relative;z-index: 1;}#sk-container-id-1 div.sk-parallel {display: flex;align-items: stretch;justify-content: center;background-color: white;position: relative;}#sk-container-id-1 div.sk-item::before, #sk-container-id-1 div.sk-parallel-item::before {content: \"\";position: absolute;border-left: 1px solid gray;box-sizing: border-box;top: 0;bottom: 0;left: 50%;z-index: -1;}#sk-container-id-1 div.sk-parallel-item {display: flex;flex-direction: column;z-index: 1;position: relative;background-color: white;}#sk-container-id-1 div.sk-parallel-item:first-child::after {align-self: flex-end;width: 50%;}#sk-container-id-1 div.sk-parallel-item:last-child::after {align-self: flex-start;width: 50%;}#sk-container-id-1 div.sk-parallel-item:only-child::after {width: 0;}#sk-container-id-1 div.sk-dashed-wrapped {border: 1px dashed gray;margin: 0 0.4em 0.5em 0.4em;box-sizing: border-box;padding-bottom: 0.4em;background-color: white;}#sk-container-id-1 div.sk-label label {font-family: monospace;font-weight: bold;display: inline-block;line-height: 1.2em;}#sk-container-id-1 div.sk-label-container {text-align: center;}#sk-container-id-1 div.sk-container {/* jupyter's `normalize.less` sets `[hidden] { display: none; }` but bootstrap.min.css set `[hidden] { display: none !important; }` so we also need the `!important` here to be able to override the default hidden behavior on the sphinx rendered scikit-learn.org. See: https://github.com/scikit-learn/scikit-learn/issues/21755 */display: inline-block !important;position: relative;}#sk-container-id-1 div.sk-text-repr-fallback {display: none;}</style><div id=\"sk-container-id-1\" class=\"sk-top-container\"><div class=\"sk-text-repr-fallback\"><pre>KNeighborsClassifier(n_neighbors=22)</pre><b>In a Jupyter environment, please rerun this cell to show the HTML representation or trust the notebook. <br />On GitHub, the HTML representation is unable to render, please try loading this page with nbviewer.org.</b></div><div class=\"sk-container\" hidden><div class=\"sk-item\"><div class=\"sk-estimator sk-toggleable\"><input class=\"sk-toggleable__control sk-hidden--visually\" id=\"sk-estimator-id-1\" type=\"checkbox\" checked><label for=\"sk-estimator-id-1\" class=\"sk-toggleable__label sk-toggleable__label-arrow\">KNeighborsClassifier</label><div class=\"sk-toggleable__content\"><pre>KNeighborsClassifier(n_neighbors=22)</pre></div></div></div></div></div>"
            ],
            "text/plain": [
              "KNeighborsClassifier(n_neighbors=22)"
            ]
          },
          "execution_count": 12,
          "metadata": {},
          "output_type": "execute_result"
        }
      ],
      "source": [
        "knn.fit(X_train, y_train)"
      ]
    },
    {
      "cell_type": "code",
      "execution_count": 13,
      "metadata": {
        "id": "mzQ6MQUuUF0n"
      },
      "outputs": [],
      "source": [
        "y_pred = knn.predict(X_test)"
      ]
    },
    {
      "cell_type": "code",
      "execution_count": 14,
      "metadata": {
        "colab": {
          "base_uri": "https://localhost:8080/"
        },
        "id": "soQ3kQK-UJRz",
        "outputId": "75d4d8c1-b638-4c66-dd02-da345ab442db"
      },
      "outputs": [
        {
          "name": "stdout",
          "output_type": "stream",
          "text": [
            "[0 1 1 ... 1 1 1]\n"
          ]
        }
      ],
      "source": [
        "print(y_pred)"
      ]
    },
    {
      "cell_type": "code",
      "execution_count": 15,
      "metadata": {
        "colab": {
          "base_uri": "https://localhost:8080/"
        },
        "id": "KleJ3pizUN7d",
        "outputId": "89ba4f0c-6df7-4bce-dc05-2049683bb005"
      },
      "outputs": [
        {
          "name": "stdout",
          "output_type": "stream",
          "text": [
            "Accuracy with k=22 97.2\n"
          ]
        }
      ],
      "source": [
        "from sklearn.metrics import accuracy_score\n",
        "print(\"Accuracy with k=22\", accuracy_score(y_test, y_pred)*100)\n"
      ]
    },
    {
      "cell_type": "code",
      "execution_count": 16,
      "metadata": {},
      "outputs": [
        {
          "name": "stdout",
          "output_type": "stream",
          "text": [
            "This URL could potentially be a phishing attempt, do check before you click on the link!\n"
          ]
        }
      ],
      "source": [
        "import pandas as pd\n",
        "from sklearn.neighbors import KNeighborsClassifier\n",
        "from sklearn.impute import SimpleImputer\n",
        "\n",
        "du = du.fillna(0)\n",
        "Xt = du.drop('CLASS_LABEL', axis=1)  \n",
        "yt = du['CLASS_LABEL']  \n",
        "y_pre = knn.predict(Xt)\n",
        "if y_pre == 1:\n",
        "    print(\"This URL could potentially be a phishing attempt, do check before you click on the link!\")\n",
        "else:\n",
        "    print(\"It does look legit, you could open up the link, but again at your own risk.\")\n"
      ]
    },
    {
      "cell_type": "code",
      "execution_count": null,
      "metadata": {},
      "outputs": [],
      "source": []
    }
  ],
  "metadata": {
    "colab": {
      "provenance": []
    },
    "kernelspec": {
      "display_name": "Python 3.9.15 ('base')",
      "language": "python",
      "name": "python3"
    },
    "language_info": {
      "codemirror_mode": {
        "name": "ipython",
        "version": 3
      },
      "file_extension": ".py",
      "mimetype": "text/x-python",
      "name": "python",
      "nbconvert_exporter": "python",
      "pygments_lexer": "ipython3",
      "version": "3.9.15"
    },
    "vscode": {
      "interpreter": {
        "hash": "3e6c37b3d2061114beef9e7ad06261d7c00f1d76378dd05c221dc7ca087f0351"
      }
    }
  },
  "nbformat": 4,
  "nbformat_minor": 0
}
